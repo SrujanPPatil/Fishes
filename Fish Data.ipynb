{
  "nbformat": 4,
  "nbformat_minor": 0,
  "metadata": {
    "colab": {
      "provenance": [],
      "include_colab_link": true
    },
    "kernelspec": {
      "name": "python3",
      "display_name": "Python 3"
    },
    "language_info": {
      "name": "python"
    }
  },
  "cells": [
    {
      "cell_type": "markdown",
      "metadata": {
        "id": "view-in-github",
        "colab_type": "text"
      },
      "source": [
        "<a href=\"https://colab.research.google.com/github/SrujanPPatil/Fishes/blob/main/Fish%20Data.ipynb\" target=\"_parent\"><img src=\"https://colab.research.google.com/assets/colab-badge.svg\" alt=\"Open In Colab\"/></a>"
      ]
    },
    {
      "cell_type": "code",
      "execution_count": 1,
      "metadata": {
        "colab": {
          "base_uri": "https://localhost:8080/",
          "height": 424
        },
        "id": "rSV_GNUNTcPn",
        "outputId": "6e119ae6-09f5-472e-d234-3e400d8fbebc"
      },
      "outputs": [
        {
          "output_type": "execute_result",
          "data": {
            "text/plain": [
              "    Species  Weight  Length1  Length2  Length3   Height   Width\n",
              "0     Bream   242.0     23.2     25.4     30.0  11.5200  4.0200\n",
              "1     Bream   290.0     24.0     26.3     31.2  12.4800  4.3056\n",
              "2     Bream   340.0     23.9     26.5     31.1  12.3778  4.6961\n",
              "3     Bream   363.0     26.3     29.0     33.5  12.7300  4.4555\n",
              "4     Bream   430.0     26.5     29.0     34.0  12.4440  5.1340\n",
              "..      ...     ...      ...      ...      ...      ...     ...\n",
              "154   Smelt    12.2     11.5     12.2     13.4   2.0904  1.3936\n",
              "155   Smelt    13.4     11.7     12.4     13.5   2.4300  1.2690\n",
              "156   Smelt    12.2     12.1     13.0     13.8   2.2770  1.2558\n",
              "157   Smelt    19.7     13.2     14.3     15.2   2.8728  2.0672\n",
              "158   Smelt    19.9     13.8     15.0     16.2   2.9322  1.8792\n",
              "\n",
              "[159 rows x 7 columns]"
            ],
            "text/html": [
              "\n",
              "  <div id=\"df-4aeae2ba-d67b-48e2-9d14-a3dcbbbe80ed\">\n",
              "    <div class=\"colab-df-container\">\n",
              "      <div>\n",
              "<style scoped>\n",
              "    .dataframe tbody tr th:only-of-type {\n",
              "        vertical-align: middle;\n",
              "    }\n",
              "\n",
              "    .dataframe tbody tr th {\n",
              "        vertical-align: top;\n",
              "    }\n",
              "\n",
              "    .dataframe thead th {\n",
              "        text-align: right;\n",
              "    }\n",
              "</style>\n",
              "<table border=\"1\" class=\"dataframe\">\n",
              "  <thead>\n",
              "    <tr style=\"text-align: right;\">\n",
              "      <th></th>\n",
              "      <th>Species</th>\n",
              "      <th>Weight</th>\n",
              "      <th>Length1</th>\n",
              "      <th>Length2</th>\n",
              "      <th>Length3</th>\n",
              "      <th>Height</th>\n",
              "      <th>Width</th>\n",
              "    </tr>\n",
              "  </thead>\n",
              "  <tbody>\n",
              "    <tr>\n",
              "      <th>0</th>\n",
              "      <td>Bream</td>\n",
              "      <td>242.0</td>\n",
              "      <td>23.2</td>\n",
              "      <td>25.4</td>\n",
              "      <td>30.0</td>\n",
              "      <td>11.5200</td>\n",
              "      <td>4.0200</td>\n",
              "    </tr>\n",
              "    <tr>\n",
              "      <th>1</th>\n",
              "      <td>Bream</td>\n",
              "      <td>290.0</td>\n",
              "      <td>24.0</td>\n",
              "      <td>26.3</td>\n",
              "      <td>31.2</td>\n",
              "      <td>12.4800</td>\n",
              "      <td>4.3056</td>\n",
              "    </tr>\n",
              "    <tr>\n",
              "      <th>2</th>\n",
              "      <td>Bream</td>\n",
              "      <td>340.0</td>\n",
              "      <td>23.9</td>\n",
              "      <td>26.5</td>\n",
              "      <td>31.1</td>\n",
              "      <td>12.3778</td>\n",
              "      <td>4.6961</td>\n",
              "    </tr>\n",
              "    <tr>\n",
              "      <th>3</th>\n",
              "      <td>Bream</td>\n",
              "      <td>363.0</td>\n",
              "      <td>26.3</td>\n",
              "      <td>29.0</td>\n",
              "      <td>33.5</td>\n",
              "      <td>12.7300</td>\n",
              "      <td>4.4555</td>\n",
              "    </tr>\n",
              "    <tr>\n",
              "      <th>4</th>\n",
              "      <td>Bream</td>\n",
              "      <td>430.0</td>\n",
              "      <td>26.5</td>\n",
              "      <td>29.0</td>\n",
              "      <td>34.0</td>\n",
              "      <td>12.4440</td>\n",
              "      <td>5.1340</td>\n",
              "    </tr>\n",
              "    <tr>\n",
              "      <th>...</th>\n",
              "      <td>...</td>\n",
              "      <td>...</td>\n",
              "      <td>...</td>\n",
              "      <td>...</td>\n",
              "      <td>...</td>\n",
              "      <td>...</td>\n",
              "      <td>...</td>\n",
              "    </tr>\n",
              "    <tr>\n",
              "      <th>154</th>\n",
              "      <td>Smelt</td>\n",
              "      <td>12.2</td>\n",
              "      <td>11.5</td>\n",
              "      <td>12.2</td>\n",
              "      <td>13.4</td>\n",
              "      <td>2.0904</td>\n",
              "      <td>1.3936</td>\n",
              "    </tr>\n",
              "    <tr>\n",
              "      <th>155</th>\n",
              "      <td>Smelt</td>\n",
              "      <td>13.4</td>\n",
              "      <td>11.7</td>\n",
              "      <td>12.4</td>\n",
              "      <td>13.5</td>\n",
              "      <td>2.4300</td>\n",
              "      <td>1.2690</td>\n",
              "    </tr>\n",
              "    <tr>\n",
              "      <th>156</th>\n",
              "      <td>Smelt</td>\n",
              "      <td>12.2</td>\n",
              "      <td>12.1</td>\n",
              "      <td>13.0</td>\n",
              "      <td>13.8</td>\n",
              "      <td>2.2770</td>\n",
              "      <td>1.2558</td>\n",
              "    </tr>\n",
              "    <tr>\n",
              "      <th>157</th>\n",
              "      <td>Smelt</td>\n",
              "      <td>19.7</td>\n",
              "      <td>13.2</td>\n",
              "      <td>14.3</td>\n",
              "      <td>15.2</td>\n",
              "      <td>2.8728</td>\n",
              "      <td>2.0672</td>\n",
              "    </tr>\n",
              "    <tr>\n",
              "      <th>158</th>\n",
              "      <td>Smelt</td>\n",
              "      <td>19.9</td>\n",
              "      <td>13.8</td>\n",
              "      <td>15.0</td>\n",
              "      <td>16.2</td>\n",
              "      <td>2.9322</td>\n",
              "      <td>1.8792</td>\n",
              "    </tr>\n",
              "  </tbody>\n",
              "</table>\n",
              "<p>159 rows × 7 columns</p>\n",
              "</div>\n",
              "      <button class=\"colab-df-convert\" onclick=\"convertToInteractive('df-4aeae2ba-d67b-48e2-9d14-a3dcbbbe80ed')\"\n",
              "              title=\"Convert this dataframe to an interactive table.\"\n",
              "              style=\"display:none;\">\n",
              "        \n",
              "  <svg xmlns=\"http://www.w3.org/2000/svg\" height=\"24px\"viewBox=\"0 0 24 24\"\n",
              "       width=\"24px\">\n",
              "    <path d=\"M0 0h24v24H0V0z\" fill=\"none\"/>\n",
              "    <path d=\"M18.56 5.44l.94 2.06.94-2.06 2.06-.94-2.06-.94-.94-2.06-.94 2.06-2.06.94zm-11 1L8.5 8.5l.94-2.06 2.06-.94-2.06-.94L8.5 2.5l-.94 2.06-2.06.94zm10 10l.94 2.06.94-2.06 2.06-.94-2.06-.94-.94-2.06-.94 2.06-2.06.94z\"/><path d=\"M17.41 7.96l-1.37-1.37c-.4-.4-.92-.59-1.43-.59-.52 0-1.04.2-1.43.59L10.3 9.45l-7.72 7.72c-.78.78-.78 2.05 0 2.83L4 21.41c.39.39.9.59 1.41.59.51 0 1.02-.2 1.41-.59l7.78-7.78 2.81-2.81c.8-.78.8-2.07 0-2.86zM5.41 20L4 18.59l7.72-7.72 1.47 1.35L5.41 20z\"/>\n",
              "  </svg>\n",
              "      </button>\n",
              "      \n",
              "  <style>\n",
              "    .colab-df-container {\n",
              "      display:flex;\n",
              "      flex-wrap:wrap;\n",
              "      gap: 12px;\n",
              "    }\n",
              "\n",
              "    .colab-df-convert {\n",
              "      background-color: #E8F0FE;\n",
              "      border: none;\n",
              "      border-radius: 50%;\n",
              "      cursor: pointer;\n",
              "      display: none;\n",
              "      fill: #1967D2;\n",
              "      height: 32px;\n",
              "      padding: 0 0 0 0;\n",
              "      width: 32px;\n",
              "    }\n",
              "\n",
              "    .colab-df-convert:hover {\n",
              "      background-color: #E2EBFA;\n",
              "      box-shadow: 0px 1px 2px rgba(60, 64, 67, 0.3), 0px 1px 3px 1px rgba(60, 64, 67, 0.15);\n",
              "      fill: #174EA6;\n",
              "    }\n",
              "\n",
              "    [theme=dark] .colab-df-convert {\n",
              "      background-color: #3B4455;\n",
              "      fill: #D2E3FC;\n",
              "    }\n",
              "\n",
              "    [theme=dark] .colab-df-convert:hover {\n",
              "      background-color: #434B5C;\n",
              "      box-shadow: 0px 1px 3px 1px rgba(0, 0, 0, 0.15);\n",
              "      filter: drop-shadow(0px 1px 2px rgba(0, 0, 0, 0.3));\n",
              "      fill: #FFFFFF;\n",
              "    }\n",
              "  </style>\n",
              "\n",
              "      <script>\n",
              "        const buttonEl =\n",
              "          document.querySelector('#df-4aeae2ba-d67b-48e2-9d14-a3dcbbbe80ed button.colab-df-convert');\n",
              "        buttonEl.style.display =\n",
              "          google.colab.kernel.accessAllowed ? 'block' : 'none';\n",
              "\n",
              "        async function convertToInteractive(key) {\n",
              "          const element = document.querySelector('#df-4aeae2ba-d67b-48e2-9d14-a3dcbbbe80ed');\n",
              "          const dataTable =\n",
              "            await google.colab.kernel.invokeFunction('convertToInteractive',\n",
              "                                                     [key], {});\n",
              "          if (!dataTable) return;\n",
              "\n",
              "          const docLinkHtml = 'Like what you see? Visit the ' +\n",
              "            '<a target=\"_blank\" href=https://colab.research.google.com/notebooks/data_table.ipynb>data table notebook</a>'\n",
              "            + ' to learn more about interactive tables.';\n",
              "          element.innerHTML = '';\n",
              "          dataTable['output_type'] = 'display_data';\n",
              "          await google.colab.output.renderOutput(dataTable, element);\n",
              "          const docLink = document.createElement('div');\n",
              "          docLink.innerHTML = docLinkHtml;\n",
              "          element.appendChild(docLink);\n",
              "        }\n",
              "      </script>\n",
              "    </div>\n",
              "  </div>\n",
              "  "
            ]
          },
          "metadata": {},
          "execution_count": 1
        }
      ],
      "source": [
        "import pandas as pd\n",
        "dframe=pd.read_csv('/content/Fish.xls')\n",
        "dframe"
      ]
    },
    {
      "cell_type": "code",
      "source": [
        "dframe['Species'].value_counts()"
      ],
      "metadata": {
        "colab": {
          "base_uri": "https://localhost:8080/"
        },
        "id": "qAsX1vj0TuYb",
        "outputId": "68ab2b3e-704a-4349-b81d-40dd37df170c"
      },
      "execution_count": 2,
      "outputs": [
        {
          "output_type": "execute_result",
          "data": {
            "text/plain": [
              "Perch        56\n",
              "Bream        35\n",
              "Roach        20\n",
              "Pike         17\n",
              "Smelt        14\n",
              "Parkki       11\n",
              "Whitefish     6\n",
              "Name: Species, dtype: int64"
            ]
          },
          "metadata": {},
          "execution_count": 2
        }
      ]
    },
    {
      "cell_type": "code",
      "source": [
        "x=dframe.iloc[:,1:7]\n",
        "x"
      ],
      "metadata": {
        "colab": {
          "base_uri": "https://localhost:8080/",
          "height": 424
        },
        "id": "qPHQINrpT547",
        "outputId": "47d193e5-693a-4f26-df10-70baa2e8f04a"
      },
      "execution_count": 3,
      "outputs": [
        {
          "output_type": "execute_result",
          "data": {
            "text/plain": [
              "     Weight  Length1  Length2  Length3   Height   Width\n",
              "0     242.0     23.2     25.4     30.0  11.5200  4.0200\n",
              "1     290.0     24.0     26.3     31.2  12.4800  4.3056\n",
              "2     340.0     23.9     26.5     31.1  12.3778  4.6961\n",
              "3     363.0     26.3     29.0     33.5  12.7300  4.4555\n",
              "4     430.0     26.5     29.0     34.0  12.4440  5.1340\n",
              "..      ...      ...      ...      ...      ...     ...\n",
              "154    12.2     11.5     12.2     13.4   2.0904  1.3936\n",
              "155    13.4     11.7     12.4     13.5   2.4300  1.2690\n",
              "156    12.2     12.1     13.0     13.8   2.2770  1.2558\n",
              "157    19.7     13.2     14.3     15.2   2.8728  2.0672\n",
              "158    19.9     13.8     15.0     16.2   2.9322  1.8792\n",
              "\n",
              "[159 rows x 6 columns]"
            ],
            "text/html": [
              "\n",
              "  <div id=\"df-fede40ba-24c2-4cac-a3aa-581b8ed803c0\">\n",
              "    <div class=\"colab-df-container\">\n",
              "      <div>\n",
              "<style scoped>\n",
              "    .dataframe tbody tr th:only-of-type {\n",
              "        vertical-align: middle;\n",
              "    }\n",
              "\n",
              "    .dataframe tbody tr th {\n",
              "        vertical-align: top;\n",
              "    }\n",
              "\n",
              "    .dataframe thead th {\n",
              "        text-align: right;\n",
              "    }\n",
              "</style>\n",
              "<table border=\"1\" class=\"dataframe\">\n",
              "  <thead>\n",
              "    <tr style=\"text-align: right;\">\n",
              "      <th></th>\n",
              "      <th>Weight</th>\n",
              "      <th>Length1</th>\n",
              "      <th>Length2</th>\n",
              "      <th>Length3</th>\n",
              "      <th>Height</th>\n",
              "      <th>Width</th>\n",
              "    </tr>\n",
              "  </thead>\n",
              "  <tbody>\n",
              "    <tr>\n",
              "      <th>0</th>\n",
              "      <td>242.0</td>\n",
              "      <td>23.2</td>\n",
              "      <td>25.4</td>\n",
              "      <td>30.0</td>\n",
              "      <td>11.5200</td>\n",
              "      <td>4.0200</td>\n",
              "    </tr>\n",
              "    <tr>\n",
              "      <th>1</th>\n",
              "      <td>290.0</td>\n",
              "      <td>24.0</td>\n",
              "      <td>26.3</td>\n",
              "      <td>31.2</td>\n",
              "      <td>12.4800</td>\n",
              "      <td>4.3056</td>\n",
              "    </tr>\n",
              "    <tr>\n",
              "      <th>2</th>\n",
              "      <td>340.0</td>\n",
              "      <td>23.9</td>\n",
              "      <td>26.5</td>\n",
              "      <td>31.1</td>\n",
              "      <td>12.3778</td>\n",
              "      <td>4.6961</td>\n",
              "    </tr>\n",
              "    <tr>\n",
              "      <th>3</th>\n",
              "      <td>363.0</td>\n",
              "      <td>26.3</td>\n",
              "      <td>29.0</td>\n",
              "      <td>33.5</td>\n",
              "      <td>12.7300</td>\n",
              "      <td>4.4555</td>\n",
              "    </tr>\n",
              "    <tr>\n",
              "      <th>4</th>\n",
              "      <td>430.0</td>\n",
              "      <td>26.5</td>\n",
              "      <td>29.0</td>\n",
              "      <td>34.0</td>\n",
              "      <td>12.4440</td>\n",
              "      <td>5.1340</td>\n",
              "    </tr>\n",
              "    <tr>\n",
              "      <th>...</th>\n",
              "      <td>...</td>\n",
              "      <td>...</td>\n",
              "      <td>...</td>\n",
              "      <td>...</td>\n",
              "      <td>...</td>\n",
              "      <td>...</td>\n",
              "    </tr>\n",
              "    <tr>\n",
              "      <th>154</th>\n",
              "      <td>12.2</td>\n",
              "      <td>11.5</td>\n",
              "      <td>12.2</td>\n",
              "      <td>13.4</td>\n",
              "      <td>2.0904</td>\n",
              "      <td>1.3936</td>\n",
              "    </tr>\n",
              "    <tr>\n",
              "      <th>155</th>\n",
              "      <td>13.4</td>\n",
              "      <td>11.7</td>\n",
              "      <td>12.4</td>\n",
              "      <td>13.5</td>\n",
              "      <td>2.4300</td>\n",
              "      <td>1.2690</td>\n",
              "    </tr>\n",
              "    <tr>\n",
              "      <th>156</th>\n",
              "      <td>12.2</td>\n",
              "      <td>12.1</td>\n",
              "      <td>13.0</td>\n",
              "      <td>13.8</td>\n",
              "      <td>2.2770</td>\n",
              "      <td>1.2558</td>\n",
              "    </tr>\n",
              "    <tr>\n",
              "      <th>157</th>\n",
              "      <td>19.7</td>\n",
              "      <td>13.2</td>\n",
              "      <td>14.3</td>\n",
              "      <td>15.2</td>\n",
              "      <td>2.8728</td>\n",
              "      <td>2.0672</td>\n",
              "    </tr>\n",
              "    <tr>\n",
              "      <th>158</th>\n",
              "      <td>19.9</td>\n",
              "      <td>13.8</td>\n",
              "      <td>15.0</td>\n",
              "      <td>16.2</td>\n",
              "      <td>2.9322</td>\n",
              "      <td>1.8792</td>\n",
              "    </tr>\n",
              "  </tbody>\n",
              "</table>\n",
              "<p>159 rows × 6 columns</p>\n",
              "</div>\n",
              "      <button class=\"colab-df-convert\" onclick=\"convertToInteractive('df-fede40ba-24c2-4cac-a3aa-581b8ed803c0')\"\n",
              "              title=\"Convert this dataframe to an interactive table.\"\n",
              "              style=\"display:none;\">\n",
              "        \n",
              "  <svg xmlns=\"http://www.w3.org/2000/svg\" height=\"24px\"viewBox=\"0 0 24 24\"\n",
              "       width=\"24px\">\n",
              "    <path d=\"M0 0h24v24H0V0z\" fill=\"none\"/>\n",
              "    <path d=\"M18.56 5.44l.94 2.06.94-2.06 2.06-.94-2.06-.94-.94-2.06-.94 2.06-2.06.94zm-11 1L8.5 8.5l.94-2.06 2.06-.94-2.06-.94L8.5 2.5l-.94 2.06-2.06.94zm10 10l.94 2.06.94-2.06 2.06-.94-2.06-.94-.94-2.06-.94 2.06-2.06.94z\"/><path d=\"M17.41 7.96l-1.37-1.37c-.4-.4-.92-.59-1.43-.59-.52 0-1.04.2-1.43.59L10.3 9.45l-7.72 7.72c-.78.78-.78 2.05 0 2.83L4 21.41c.39.39.9.59 1.41.59.51 0 1.02-.2 1.41-.59l7.78-7.78 2.81-2.81c.8-.78.8-2.07 0-2.86zM5.41 20L4 18.59l7.72-7.72 1.47 1.35L5.41 20z\"/>\n",
              "  </svg>\n",
              "      </button>\n",
              "      \n",
              "  <style>\n",
              "    .colab-df-container {\n",
              "      display:flex;\n",
              "      flex-wrap:wrap;\n",
              "      gap: 12px;\n",
              "    }\n",
              "\n",
              "    .colab-df-convert {\n",
              "      background-color: #E8F0FE;\n",
              "      border: none;\n",
              "      border-radius: 50%;\n",
              "      cursor: pointer;\n",
              "      display: none;\n",
              "      fill: #1967D2;\n",
              "      height: 32px;\n",
              "      padding: 0 0 0 0;\n",
              "      width: 32px;\n",
              "    }\n",
              "\n",
              "    .colab-df-convert:hover {\n",
              "      background-color: #E2EBFA;\n",
              "      box-shadow: 0px 1px 2px rgba(60, 64, 67, 0.3), 0px 1px 3px 1px rgba(60, 64, 67, 0.15);\n",
              "      fill: #174EA6;\n",
              "    }\n",
              "\n",
              "    [theme=dark] .colab-df-convert {\n",
              "      background-color: #3B4455;\n",
              "      fill: #D2E3FC;\n",
              "    }\n",
              "\n",
              "    [theme=dark] .colab-df-convert:hover {\n",
              "      background-color: #434B5C;\n",
              "      box-shadow: 0px 1px 3px 1px rgba(0, 0, 0, 0.15);\n",
              "      filter: drop-shadow(0px 1px 2px rgba(0, 0, 0, 0.3));\n",
              "      fill: #FFFFFF;\n",
              "    }\n",
              "  </style>\n",
              "\n",
              "      <script>\n",
              "        const buttonEl =\n",
              "          document.querySelector('#df-fede40ba-24c2-4cac-a3aa-581b8ed803c0 button.colab-df-convert');\n",
              "        buttonEl.style.display =\n",
              "          google.colab.kernel.accessAllowed ? 'block' : 'none';\n",
              "\n",
              "        async function convertToInteractive(key) {\n",
              "          const element = document.querySelector('#df-fede40ba-24c2-4cac-a3aa-581b8ed803c0');\n",
              "          const dataTable =\n",
              "            await google.colab.kernel.invokeFunction('convertToInteractive',\n",
              "                                                     [key], {});\n",
              "          if (!dataTable) return;\n",
              "\n",
              "          const docLinkHtml = 'Like what you see? Visit the ' +\n",
              "            '<a target=\"_blank\" href=https://colab.research.google.com/notebooks/data_table.ipynb>data table notebook</a>'\n",
              "            + ' to learn more about interactive tables.';\n",
              "          element.innerHTML = '';\n",
              "          dataTable['output_type'] = 'display_data';\n",
              "          await google.colab.output.renderOutput(dataTable, element);\n",
              "          const docLink = document.createElement('div');\n",
              "          docLink.innerHTML = docLinkHtml;\n",
              "          element.appendChild(docLink);\n",
              "        }\n",
              "      </script>\n",
              "    </div>\n",
              "  </div>\n",
              "  "
            ]
          },
          "metadata": {},
          "execution_count": 3
        }
      ]
    },
    {
      "cell_type": "code",
      "source": [
        "y=dframe.iloc[:,0]\n",
        "y"
      ],
      "metadata": {
        "colab": {
          "base_uri": "https://localhost:8080/"
        },
        "id": "5RhKJxrZULIO",
        "outputId": "d53543e7-ae9c-4fdc-f71a-7f2baa13187c"
      },
      "execution_count": 4,
      "outputs": [
        {
          "output_type": "execute_result",
          "data": {
            "text/plain": [
              "0      Bream\n",
              "1      Bream\n",
              "2      Bream\n",
              "3      Bream\n",
              "4      Bream\n",
              "       ...  \n",
              "154    Smelt\n",
              "155    Smelt\n",
              "156    Smelt\n",
              "157    Smelt\n",
              "158    Smelt\n",
              "Name: Species, Length: 159, dtype: object"
            ]
          },
          "metadata": {},
          "execution_count": 4
        }
      ]
    },
    {
      "cell_type": "code",
      "source": [
        "from sklearn.model_selection import train_test_split"
      ],
      "metadata": {
        "id": "UXjY7RTMUW14"
      },
      "execution_count": 5,
      "outputs": []
    },
    {
      "cell_type": "code",
      "source": [
        "xtrain,xtest,ytrain,ytest=train_test_split(x,y,random_state=0)"
      ],
      "metadata": {
        "id": "EPtABpQuUiyP"
      },
      "execution_count": 6,
      "outputs": []
    },
    {
      "cell_type": "code",
      "source": [
        "print(x.shape)\n",
        "print(xtrain.shape)\n",
        "print(xtest.shape)"
      ],
      "metadata": {
        "colab": {
          "base_uri": "https://localhost:8080/"
        },
        "id": "X28tnGxGUtxI",
        "outputId": "b53fd5cd-747e-4701-f728-a3b02386fbbe"
      },
      "execution_count": 7,
      "outputs": [
        {
          "output_type": "stream",
          "name": "stdout",
          "text": [
            "(159, 6)\n",
            "(119, 6)\n",
            "(40, 6)\n"
          ]
        }
      ]
    },
    {
      "cell_type": "code",
      "source": [
        "print(y.shape)\n",
        "print(ytrain.shape)\n",
        "print(ytest.shape)"
      ],
      "metadata": {
        "colab": {
          "base_uri": "https://localhost:8080/"
        },
        "id": "dhCe5wbaU-8_",
        "outputId": "7694af32-7c5c-469f-a06d-04f73675bc41"
      },
      "execution_count": 8,
      "outputs": [
        {
          "output_type": "stream",
          "name": "stdout",
          "text": [
            "(159,)\n",
            "(119,)\n",
            "(40,)\n"
          ]
        }
      ]
    },
    {
      "cell_type": "code",
      "source": [
        "from sklearn.preprocessing import MinMaxScaler\n",
        "scale=MinMaxScaler()"
      ],
      "metadata": {
        "id": "dKKIZY3oVIKM"
      },
      "execution_count": 9,
      "outputs": []
    },
    {
      "cell_type": "code",
      "source": [
        "xtrain=scale.fit_transform(xtrain)\n",
        "xtest=scale.fit_transform(xtest)"
      ],
      "metadata": {
        "id": "WNYwOF5GVZYn"
      },
      "execution_count": 10,
      "outputs": []
    },
    {
      "cell_type": "code",
      "source": [
        "xtrain"
      ],
      "metadata": {
        "colab": {
          "base_uri": "https://localhost:8080/"
        },
        "id": "Lp5e15PVVjQ5",
        "outputId": "097f202b-e21a-4ac9-e157-a4507689c6da"
      },
      "execution_count": 11,
      "outputs": [
        {
          "output_type": "execute_result",
          "data": {
            "text/plain": [
              "array([[4.08407684e-01, 5.16853933e-01, 5.12605042e-01, 4.95088409e-01,\n",
              "        4.81849947e-01, 7.36562884e-01],\n",
              "       [2.74093722e-02, 1.41573034e-01, 1.38655462e-01, 1.41453831e-01,\n",
              "        1.21634956e-01, 2.05154043e-01],\n",
              "       [1.11807732e-01, 3.25842697e-01, 3.27731092e-01, 3.28094303e-01,\n",
              "        2.69702704e-01, 4.11582520e-01],\n",
              "       [5.69166466e-01, 5.66292135e-01, 5.79831933e-01, 6.42436149e-01,\n",
              "        8.58375028e-01, 7.11889273e-01],\n",
              "       [1.10923559e-02, 1.28089888e-01, 1.23949580e-01, 1.25736739e-01,\n",
              "        6.64244338e-02, 1.51094382e-01],\n",
              "       [1.53605016e-01, 3.59550562e-01, 3.61344538e-01, 3.57563851e-01,\n",
              "        2.80498706e-01, 4.72933122e-01],\n",
              "       [1.39940519e-01, 3.61797753e-01, 3.52941176e-01, 3.75245580e-01,\n",
              "        3.11006118e-01, 4.23585898e-01],\n",
              "       [1.70484688e-01, 3.93258427e-01, 3.80252101e-01, 3.77210216e-01,\n",
              "        3.15730820e-01, 4.58855085e-01],\n",
              "       [4.85571899e-01, 5.25842697e-01, 5.27310924e-01, 5.85461690e-01,\n",
              "        8.07064997e-01, 6.05533409e-01],\n",
              "       [2.52471666e-01, 4.56179775e-01, 4.53781513e-01, 4.47937132e-01,\n",
              "        3.41710876e-01, 5.51859042e-01],\n",
              "       [7.34748011e-01, 6.17977528e-01, 6.32352941e-01, 6.93516699e-01,\n",
              "        9.46594616e-01, 7.79286021e-01],\n",
              "       [2.09790210e-02, 1.12359551e-01, 1.11344538e-01, 1.15913556e-01,\n",
              "        1.04454221e-01, 1.41017472e-01],\n",
              "       [5.06390162e-03, 1.03370787e-01, 9.66386555e-02, 9.82318271e-02,\n",
              "        3.18424016e-02, 3.08531290e-02],\n",
              "       [2.68547544e-01, 3.68539326e-01, 3.80252101e-01, 4.38113949e-01,\n",
              "        6.18123353e-01, 5.40670707e-01],\n",
              "       [6.35800981e-02, 2.31460674e-01, 2.35294118e-01, 2.35756385e-01,\n",
              "        1.97880269e-01, 2.94779271e-01],\n",
              "       [1.15826702e-01, 2.89887640e-01, 2.85714286e-01, 3.12377210e-01,\n",
              "        2.36589160e-01, 4.01120315e-01],\n",
              "       [2.36395788e-01, 3.70786517e-01, 3.69747899e-01, 3.96856582e-01,\n",
              "        5.59511510e-01, 4.72192173e-01],\n",
              "       [3.77059722e-01, 4.69662921e-01, 4.74789916e-01, 5.38310413e-01,\n",
              "        7.27534449e-01, 6.01146990e-01],\n",
              "       [2.25062294e-03, 7.41573034e-02, 6.09243697e-02, 7.46561886e-02,\n",
              "        1.44991468e-02, 3.52099109e-02],\n",
              "       [3.40888996e-01, 6.29213483e-01, 6.21848739e-01, 6.22789784e-01,\n",
              "        3.22812068e-01, 5.22947200e-01],\n",
              "       [3.13479624e-03, 8.76404494e-02, 7.56302521e-02, 8.64440079e-02,\n",
              "        2.76284782e-02, 1.49375380e-02],\n",
              "       [1.28607025e-03, 5.61797753e-02, 4.41176471e-02, 5.50098232e-02,\n",
              "        1.41392800e-02, 1.66565404e-02],\n",
              "       [1.07788763e-01, 2.58426966e-01, 2.58403361e-01, 2.82907662e-01,\n",
              "        3.95226542e-01, 3.32952979e-01],\n",
              "       [1.11807732e-01, 2.96629213e-01, 3.00420168e-01, 3.02554028e-01,\n",
              "        2.45220157e-01, 3.82685497e-01],\n",
              "       [1.15826702e-01, 3.03370787e-01, 3.06722689e-01, 3.08447937e-01,\n",
              "        2.02575949e-01, 3.82092737e-01],\n",
              "       [6.43035126e-04, 4.04494382e-02, 2.94117647e-02, 3.92927308e-02,\n",
              "        6.03647423e-04, 0.00000000e+00],\n",
              "       [1.00000000e+00, 1.00000000e+00, 1.00000000e+00, 1.00000000e+00,\n",
              "        5.19943582e-01, 8.79847661e-01],\n",
              "       [8.79430914e-01, 7.32584270e-01, 7.26890756e-01, 7.21021611e-01,\n",
              "        6.25941748e-01, 9.43806405e-01],\n",
              "       [6.54368620e-01, 6.65168539e-01, 6.63865546e-01, 6.62082515e-01,\n",
              "        5.45987486e-01, 8.27255079e-01],\n",
              "       [1.56016397e-01, 3.28089888e-01, 3.17226891e-01, 3.53634578e-01,\n",
              "        3.29011063e-01, 4.56365495e-01],\n",
              "       [1.46370871e-01, 3.39325843e-01, 3.40336134e-01, 3.41846758e-01,\n",
              "        2.90505323e-01, 4.62085624e-01],\n",
              "       [1.15826702e-01, 2.92134831e-01, 2.96218487e-01, 2.98624754e-01,\n",
              "        2.93906644e-01, 3.81796357e-01],\n",
              "       [9.17128848e-02, 2.24719101e-01, 2.22689076e-01, 2.45579568e-01,\n",
              "        3.86787087e-01, 2.77189135e-01],\n",
              "       [6.54368620e-01, 6.53932584e-01, 6.42857143e-01, 6.38506876e-01,\n",
              "        6.21228655e-01, 9.34159245e-01],\n",
              "       [1.96206093e-01, 4.13483146e-01, 4.11764706e-01, 4.04715128e-01,\n",
              "        3.53598087e-01, 4.67776115e-01],\n",
              "       [1.56016397e-01, 3.07865169e-01, 3.06722689e-01, 3.33988212e-01,\n",
              "        5.00179933e-01, 3.87664676e-01],\n",
              "       [1.24668435e-01, 3.25842697e-01, 3.15126050e-01, 3.51669941e-01,\n",
              "        3.01063348e-01, 3.82863324e-01],\n",
              "       [1.31098786e-01, 3.25842697e-01, 3.27731092e-01, 3.61493124e-01,\n",
              "        3.36997783e-01, 4.13094056e-01],\n",
              "       [2.68547544e-01, 4.94382022e-01, 4.95798319e-01, 5.59921415e-01,\n",
              "        7.07225195e-01, 5.96493828e-01],\n",
              "       [4.51008761e-01, 8.02247191e-01, 7.89915966e-01, 7.83889980e-01,\n",
              "        3.51949665e-01, 5.66440924e-01],\n",
              "       [5.41837473e-01, 5.46067416e-01, 5.58823529e-01, 6.24754420e-01,\n",
              "        7.97522724e-01, 7.53249063e-01],\n",
              "       [6.70444498e-01, 5.61797753e-01, 5.58823529e-01, 5.59921415e-01,\n",
              "        5.66499890e-01, 1.00000000e+00],\n",
              "       [4.57439113e-01, 5.34831461e-01, 5.37815126e-01, 6.03143418e-01,\n",
              "        7.77782292e-01, 6.70099732e-01],\n",
              "       [4.77533960e-01, 4.92134831e-01, 4.95798319e-01, 5.57956778e-01,\n",
              "        7.95746607e-01, 6.71655725e-01],\n",
              "       [5.79535407e-02, 2.08988764e-01, 2.16386555e-01, 2.08251473e-01,\n",
              "        2.01455719e-01, 3.07612513e-01],\n",
              "       [2.28357849e-01, 3.70786517e-01, 3.69747899e-01, 4.00785855e-01,\n",
              "        4.14914735e-01, 5.11136468e-01],\n",
              "       [5.15231895e-02, 1.84269663e-01, 1.89075630e-01, 1.90569745e-01,\n",
              "        1.65979824e-01, 2.80656777e-01],\n",
              "       [2.87034804e-01, 4.22471910e-01, 4.32773109e-01, 4.85265226e-01,\n",
              "        6.38566105e-01, 5.05016227e-01],\n",
              "       [1.12531147e-02, 1.41573034e-01, 1.38655462e-01, 1.45383104e-01,\n",
              "        6.98721893e-02, 1.23234688e-01],\n",
              "       [4.05192509e-01, 7.30337079e-01, 7.16386555e-01, 7.21021611e-01,\n",
              "        2.95822063e-01, 5.05534891e-01],\n",
              "       [3.97154570e-01, 4.33707865e-01, 4.47478992e-01, 5.04911591e-01,\n",
              "        7.22699465e-01, 6.26976482e-01],\n",
              "       [1.11807732e-01, 2.76404494e-01, 2.75210084e-01, 3.00589391e-01,\n",
              "        4.64808516e-01, 3.12606511e-01],\n",
              "       [3.66530022e-02, 1.68539326e-01, 1.63865546e-01, 1.65029470e-01,\n",
              "        1.66235214e-01, 2.34732740e-01],\n",
              "       [9.57318544e-02, 2.58426966e-01, 2.64705882e-01, 2.69155206e-01,\n",
              "        2.30088341e-01, 3.88242616e-01],\n",
              "       [5.45856442e-01, 5.95505618e-01, 5.90336134e-01, 5.93320236e-01,\n",
              "        5.31244558e-01, 8.61931507e-01],\n",
              "       [3.97154570e-01, 4.85393258e-01, 4.85294118e-01, 5.42239686e-01,\n",
              "        6.98303983e-01, 4.92049614e-01],\n",
              "       [8.11108432e-01, 6.62921348e-01, 6.63865546e-01, 6.60117878e-01,\n",
              "        6.18297482e-01, 9.50608319e-01],\n",
              "       [4.77533960e-01, 4.92134831e-01, 4.95798319e-01, 5.57956778e-01,\n",
              "        7.67677002e-01, 6.11016434e-01],\n",
              "       [8.79430914e-01, 7.07865169e-01, 7.05882353e-01, 7.03339882e-01,\n",
              "        6.42640725e-01, 8.62583542e-01],\n",
              "       [9.97508239e-02, 2.92134831e-01, 2.96218487e-01, 2.98624754e-01,\n",
              "        2.39578375e-01, 3.81796357e-01],\n",
              "       [4.29306326e-01, 7.32584270e-01, 7.26890756e-01, 7.26915521e-01,\n",
              "        3.51601407e-01, 6.04911012e-01],\n",
              "       [1.07788763e-01, 3.03370787e-01, 2.96218487e-01, 3.18271120e-01,\n",
              "        2.79860232e-01, 3.37487589e-01],\n",
              "       [3.97154570e-01, 4.76404494e-01, 4.74789916e-01, 5.38310413e-01,\n",
              "        7.33837921e-01, 5.58231206e-01],\n",
              "       [2.36395788e-01, 3.97752809e-01, 3.97058824e-01, 3.90962672e-01,\n",
              "        3.82770510e-01, 6.06052074e-01],\n",
              "       [2.74093722e-02, 1.21348315e-01, 1.19747899e-01, 1.45383104e-01,\n",
              "        1.40394460e-01, 1.80850906e-01],\n",
              "       [2.41218552e-01, 4.06741573e-01, 4.11764706e-01, 4.32220039e-01,\n",
              "        4.09180084e-01, 5.38521954e-01],\n",
              "       [8.36749457e-02, 2.60674157e-01, 2.60504202e-01, 2.80943026e-01,\n",
              "        2.57670385e-01, 3.47964612e-01],\n",
              "       [6.02845430e-03, 9.43820225e-02, 8.40336134e-02, 9.23379175e-02,\n",
              "        4.07229839e-02, 3.28092352e-02],\n",
              "       [1.15826702e-01, 2.44943820e-01, 2.43697479e-01, 2.67190570e-01,\n",
              "        4.15843423e-01, 3.32715876e-01],\n",
              "       [2.28357849e-01, 3.70786517e-01, 3.76050420e-01, 4.40078585e-01,\n",
              "        6.24055350e-01, 4.82802567e-01],\n",
              "       [2.36395788e-01, 5.43820225e-01, 5.37815126e-01, 5.69744597e-01,\n",
              "        2.30976400e-01, 4.60929743e-01],\n",
              "       [8.84173298e-04, 5.84269663e-02, 4.62184874e-02, 5.50098232e-02,\n",
              "        0.00000000e+00, 1.49375380e-02],\n",
              "       [9.17128848e-02, 2.67415730e-01, 2.64705882e-01, 2.92730845e-01,\n",
              "        2.54588301e-01, 3.32938160e-01],\n",
              "       [1.96206093e-01, 4.02247191e-01, 4.01260504e-01, 3.94891945e-01,\n",
              "        3.22394159e-01, 5.21420844e-01],\n",
              "       [3.40888996e-01, 4.26966292e-01, 4.32773109e-01, 4.95088409e-01,\n",
              "        6.21965801e-01, 6.05563047e-01],\n",
              "       [3.97154570e-01, 7.75280899e-01, 7.68907563e-01, 7.70137525e-01,\n",
              "        3.03657871e-01, 5.70293860e-01],\n",
              "       [5.57913351e-01, 5.14606742e-01, 5.16806723e-01, 5.83497053e-01,\n",
              "        7.66725097e-01, 6.14973104e-01],\n",
              "       [7.18672132e-01, 6.51685393e-01, 6.42857143e-01, 6.40471513e-01,\n",
              "        5.46080355e-01, 9.55202205e-01],\n",
              "       [2.08263001e-01, 4.02247191e-01, 4.01260504e-01, 3.94891945e-01,\n",
              "        3.08974612e-01, 4.87159349e-01],\n",
              "       [6.51876859e-02, 2.40449438e-01, 2.39495798e-01, 2.63261297e-01,\n",
              "        2.25682876e-01, 3.15199834e-01],\n",
              "       [3.56964874e-01, 4.33707865e-01, 4.47478992e-01, 5.08840864e-01,\n",
              "        6.89202837e-01, 5.74947022e-01],\n",
              "       [2.13889559e-01, 3.93258427e-01, 3.90756303e-01, 4.28290766e-01,\n",
              "        3.96991050e-01, 5.52155422e-01],\n",
              "       [3.21517563e-03, 8.53932584e-02, 7.14285714e-02, 8.44793713e-02,\n",
              "        2.81798869e-02, 1.75308605e-02],\n",
              "       [7.99051523e-01, 7.25842697e-01, 7.26890756e-01, 7.15127701e-01,\n",
              "        5.92294208e-01, 9.23163557e-01],\n",
              "       [1.89775741e-01, 3.52808989e-01, 3.57142857e-01, 4.16502947e-01,\n",
              "        5.68334049e-01, 4.40479542e-01],\n",
              "       [7.58861828e-01, 6.85393258e-01, 6.84873950e-01, 7.40667976e-01,\n",
              "        9.22599631e-01, 7.88799810e-01],\n",
              "       [6.78482437e-01, 5.68539326e-01, 5.79831933e-01, 6.44400786e-01,\n",
              "        8.80001857e-01, 7.63296335e-01],\n",
              "       [2.12281971e-01, 3.61797753e-01, 3.69747899e-01, 3.90962672e-01,\n",
              "        3.86102179e-01, 4.74207555e-01],\n",
              "       [5.57913351e-01, 6.06741573e-01, 6.00840336e-01, 6.01178782e-01,\n",
              "        5.28574579e-01, 7.73106504e-01],\n",
              "       [7.62880797e-01, 6.17977528e-01, 6.32352941e-01, 6.91552063e-01,\n",
              "        9.49328442e-01, 7.77166906e-01],\n",
              "       [2.72566514e-01, 6.40449438e-01, 6.32352941e-01, 6.32612967e-01,\n",
              "        2.70921607e-01, 4.34107378e-01],\n",
              "       [7.99051523e-01, 7.55056180e-01, 7.47899160e-01, 7.42632613e-01,\n",
              "        6.24566128e-01, 9.70376847e-01],\n",
              "       [6.14178925e-01, 8.38202247e-01, 8.31932773e-01, 8.33005894e-01,\n",
              "        3.45448847e-01, 6.41424994e-01],\n",
              "       [7.38766980e-01, 6.44943820e-01, 6.53361345e-01, 7.17092338e-01,\n",
              "        9.88228875e-01, 8.44993406e-01],\n",
              "       [7.99051523e-01, 5.84269663e-01, 6.00840336e-01, 6.64047151e-01,\n",
              "        1.00000000e+00, 8.23253953e-01],\n",
              "       [1.39940519e-01, 3.48314607e-01, 3.48739496e-01, 3.47740668e-01,\n",
              "        2.73446479e-01, 3.90613654e-01],\n",
              "       [8.36749457e-02, 2.58426966e-01, 2.64705882e-01, 2.69155206e-01,\n",
              "        2.30088341e-01, 3.71571257e-01],\n",
              "       [5.95611285e-02, 2.17977528e-01, 2.22689076e-01, 2.23968566e-01,\n",
              "        2.26797302e-01, 2.96765015e-01],\n",
              "       [5.49875412e-01, 6.08988764e-01, 6.00840336e-01, 5.99214145e-01,\n",
              "        5.13291852e-01, 7.88221870e-01],\n",
              "       [5.06390162e-03, 8.98876404e-02, 7.98319328e-02, 9.03732809e-02,\n",
              "        2.10115738e-02, 5.12736919e-02],\n",
              "       [0.00000000e+00, 0.00000000e+00, 0.00000000e+00, 0.00000000e+00,\n",
              "        2.22653030e-02, 5.34076259e-02],\n",
              "       [7.56370067e-02, 1.95505618e-01, 2.01680672e-01, 2.04322200e-01,\n",
              "        2.02802317e-01, 3.36983744e-01],\n",
              "       [5.78008199e-01, 5.46067416e-01, 5.58823529e-01, 6.30648330e-01,\n",
              "        8.49262273e-01, 7.41779167e-01],\n",
              "       [6.35800981e-02, 2.40449438e-01, 2.43697479e-01, 2.39685658e-01,\n",
              "        1.94653077e-01, 2.55538596e-01],\n",
              "       [3.13479624e-03, 7.19101124e-02, 5.88235294e-02, 7.07269155e-02,\n",
              "        2.05936640e-02, 3.40243921e-02],\n",
              "       [3.29555502e-03, 8.53932584e-02, 7.14285714e-02, 8.44793713e-02,\n",
              "        2.81798869e-02, 3.50024451e-02],\n",
              "       [9.17128848e-02, 2.49438202e-01, 2.43697479e-01, 2.63261297e-01,\n",
              "        2.60473863e-01, 3.74416502e-01],\n",
              "       [4.29306326e-01, 4.71910112e-01, 4.74789916e-01, 4.95088409e-01,\n",
              "        5.23292665e-01, 8.17178169e-01],\n",
              "       [7.58861828e-01, 9.16853933e-01, 9.09663866e-01, 9.09626719e-01,\n",
              "        4.17782060e-01, 7.59265571e-01],\n",
              "       [9.97508239e-02, 2.80898876e-01, 2.85714286e-01, 2.88801572e-01,\n",
              "        2.54321303e-01, 3.67125561e-01],\n",
              "       [2.14693353e-01, 3.48314607e-01, 3.48739496e-01, 3.77210216e-01,\n",
              "        5.43259464e-01, 4.58855085e-01],\n",
              "       [9.17128848e-02, 2.80898876e-01, 2.85714286e-01, 2.88801572e-01,\n",
              "        2.27041083e-01, 3.67125561e-01],\n",
              "       [5.07193955e-02, 2.02247191e-01, 2.05882353e-01, 2.25933202e-01,\n",
              "        2.07207782e-01, 2.62903632e-01],\n",
              "       [5.45856442e-01, 5.37078652e-01, 5.37815126e-01, 5.97249509e-01,\n",
              "        8.27995310e-01, 6.40595130e-01],\n",
              "       [3.97154570e-01, 4.71910112e-01, 4.68487395e-01, 5.38310413e-01,\n",
              "        7.25433291e-01, 5.79689098e-01],\n",
              "       [2.04244032e-01, 4.02247191e-01, 4.01260504e-01, 3.94891945e-01,\n",
              "        3.15684385e-01, 4.87159349e-01],\n",
              "       [1.31902580e-01, 2.58426966e-01, 2.58403361e-01, 2.82907662e-01,\n",
              "        4.45050672e-01, 3.50143003e-01],\n",
              "       [5.17723656e-01, 6.51685393e-01, 6.42857143e-01, 6.40471513e-01,\n",
              "        5.46080355e-01, 7.34340036e-01],\n",
              "       [1.23864641e-01, 3.05617978e-01, 2.96218487e-01, 3.18271120e-01,\n",
              "        2.71153779e-01, 4.07877773e-01]])"
            ]
          },
          "metadata": {},
          "execution_count": 11
        }
      ]
    },
    {
      "cell_type": "code",
      "source": [
        "xtest"
      ],
      "metadata": {
        "colab": {
          "base_uri": "https://localhost:8080/"
        },
        "id": "_iTmZbcvVsss",
        "outputId": "b5d1beee-d0cf-460e-8e19-b7b42cb40fbd"
      },
      "execution_count": 12,
      "outputs": [
        {
          "output_type": "execute_result",
          "data": {
            "text/plain": [
              "array([[0.23636364, 0.35390947, 0.36259542, 0.41071429, 0.63712788,\n",
              "        0.48950015],\n",
              "       [0.        , 0.17695473, 0.18129771, 0.19285714, 0.26030147,\n",
              "        0.29157054],\n",
              "       [0.1030303 , 0.22839506, 0.23854962, 0.23214286, 0.24812341,\n",
              "        0.34679089],\n",
              "       [0.0969697 , 0.20781893, 0.21946565, 0.2375    , 0.29425648,\n",
              "        0.36088435],\n",
              "       [0.3369697 , 0.44444444, 0.44847328, 0.4375    , 0.49031595,\n",
              "        0.74053534],\n",
              "       [0.54545455, 0.5473251 , 0.55343511, 0.54464286, 0.57994817,\n",
              "        0.86438923],\n",
              "       [0.48484848, 0.47942387, 0.48473282, 0.49285714, 0.58184605,\n",
              "        0.76805679],\n",
              "       [0.18181818, 0.50205761, 0.5019084 , 0.49642857, 0.24893853,\n",
              "        0.39038746],\n",
              "       [0.59090909, 0.55555556, 0.57251908, 0.60535714, 1.        ,\n",
              "        0.79374445],\n",
              "       [0.06969697, 0.17695473, 0.19083969, 0.1875    , 0.22637688,\n",
              "        0.2850488 ],\n",
              "       [0.12121212, 0.40329218, 0.40648855, 0.40714286, 0.20511698,\n",
              "        0.29511979],\n",
              "       [0.27636364, 0.6090535 , 0.60114504, 0.59821429, 0.30925703,\n",
              "        0.43515232],\n",
              "       [0.60606061, 0.55349794, 0.55343511, 0.5625    , 0.61790576,\n",
              "        0.76086957],\n",
              "       [0.60606061, 0.61316872, 0.62022901, 0.60714286, 0.63311313,\n",
              "        1.        ],\n",
              "       [0.03636364, 0.08024691, 0.08587786, 0.09642857, 0.26650608,\n",
              "        0.13815439],\n",
              "       [0.04727273, 0.14609053, 0.14885496, 0.16428571, 0.20557928,\n",
              "        0.22543626],\n",
              "       [0.08787879, 0.20781893, 0.20992366, 0.21964286, 0.26995511,\n",
              "        0.32058563],\n",
              "       [0.96969697, 0.9382716 , 0.9351145 , 0.92857143, 0.4503814 ,\n",
              "        0.70452529],\n",
              "       [0.07878788, 0.18312757, 0.19656489, 0.19285714, 0.25475382,\n",
              "        0.31854481],\n",
              "       [0.43636364, 0.44444444, 0.45801527, 0.51071429, 0.86169812,\n",
              "        0.69653949],\n",
              "       [0.03333333, 0.06378601, 0.07061069, 0.08035714, 0.28294828,\n",
              "        0.13997338],\n",
              "       [0.23636364, 0.39300412, 0.39503817, 0.41071429, 0.44338601,\n",
              "        0.58784383],\n",
              "       [0.07272727, 0.19753086, 0.20992366, 0.20535714, 0.23808655,\n",
              "        0.29983733],\n",
              "       [1.        , 1.        , 1.        , 1.        , 0.52410672,\n",
              "        0.90209997],\n",
              "       [0.05454545, 0.12139918, 0.1278626 , 0.13928571, 0.31687288,\n",
              "        0.19121562],\n",
              "       [0.27272727, 0.35390947, 0.36259542, 0.4125    , 0.71832914,\n",
              "        0.5122449 ],\n",
              "       [0.42424242, 0.44238683, 0.45801527, 0.50892857, 0.8543195 ,\n",
              "        0.62244898],\n",
              "       [0.16363636, 0.281893  , 0.29580153, 0.30892857, 0.36189885,\n",
              "        0.42420881],\n",
              "       [0.51515152, 0.54526749, 0.55343511, 0.54107143, 0.59202891,\n",
              "        0.84685004],\n",
              "       [0.00587879, 0.        , 0.        , 0.        , 0.        ,\n",
              "        0.        ],\n",
              "       [0.39393939, 0.42386831, 0.42938931, 0.47678571, 0.74685207,\n",
              "        0.64294587],\n",
              "       [0.06666667, 0.19753086, 0.20992366, 0.20535714, 0.20234923,\n",
              "        0.38671991],\n",
              "       [0.93939394, 0.9382716 , 0.9351145 , 0.92857143, 0.4503814 ,\n",
              "        0.70452529],\n",
              "       [0.18181818, 0.45884774, 0.45801527, 0.47857143, 0.22752655,\n",
              "        0.44430642],\n",
              "       [0.42424242, 0.41152263, 0.41984733, 0.46964286, 0.77036875,\n",
              "        0.57755102],\n",
              "       [0.13636364, 0.23868313, 0.2480916 , 0.24107143, 0.31004781,\n",
              "        0.34649512],\n",
              "       [0.18181818, 0.33950617, 0.33778626, 0.32321429, 0.32782218,\n",
              "        0.48142561],\n",
              "       [0.37575758, 0.43415638, 0.44847328, 0.49464286, 0.81065611,\n",
              "        0.57676723],\n",
              "       [0.42424242, 0.48559671, 0.47709924, 0.46964286, 0.51176442,\n",
              "        0.7927832 ],\n",
              "       [0.08181818, 0.19753086, 0.20992366, 0.20535714, 0.22379162,\n",
              "        0.31721384]])"
            ]
          },
          "metadata": {},
          "execution_count": 12
        }
      ]
    },
    {
      "cell_type": "code",
      "source": [
        "from sklearn.linear_model import LogisticRegression\n",
        "log=LogisticRegression()"
      ],
      "metadata": {
        "id": "NbZ3H4v6VtUK"
      },
      "execution_count": 13,
      "outputs": []
    },
    {
      "cell_type": "code",
      "source": [
        "log.fit(xtrain,ytrain)"
      ],
      "metadata": {
        "colab": {
          "base_uri": "https://localhost:8080/"
        },
        "id": "4PNXXGxrV-6B",
        "outputId": "8b2f8708-6054-4bf2-e769-97e131950829"
      },
      "execution_count": 14,
      "outputs": [
        {
          "output_type": "execute_result",
          "data": {
            "text/plain": [
              "LogisticRegression()"
            ]
          },
          "metadata": {},
          "execution_count": 14
        }
      ]
    },
    {
      "cell_type": "code",
      "source": [
        "ypred=log.predict(xtest)"
      ],
      "metadata": {
        "id": "VnsrNpE6WICI"
      },
      "execution_count": 15,
      "outputs": []
    },
    {
      "cell_type": "code",
      "source": [
        "ypred"
      ],
      "metadata": {
        "colab": {
          "base_uri": "https://localhost:8080/"
        },
        "id": "WYVdVCgxWO6I",
        "outputId": "7ee4d6e6-2274-4af7-8153-7173fc753854"
      },
      "execution_count": 16,
      "outputs": [
        {
          "output_type": "execute_result",
          "data": {
            "text/plain": [
              "array(['Bream', 'Perch', 'Perch', 'Perch', 'Perch', 'Perch', 'Perch',\n",
              "       'Perch', 'Bream', 'Perch', 'Perch', 'Perch', 'Perch', 'Perch',\n",
              "       'Smelt', 'Perch', 'Perch', 'Pike', 'Perch', 'Bream', 'Smelt',\n",
              "       'Perch', 'Perch', 'Pike', 'Perch', 'Bream', 'Bream', 'Perch',\n",
              "       'Perch', 'Smelt', 'Bream', 'Perch', 'Pike', 'Perch', 'Bream',\n",
              "       'Perch', 'Perch', 'Bream', 'Perch', 'Perch'], dtype=object)"
            ]
          },
          "metadata": {},
          "execution_count": 16
        }
      ]
    },
    {
      "cell_type": "code",
      "source": [
        "ytest"
      ],
      "metadata": {
        "colab": {
          "base_uri": "https://localhost:8080/"
        },
        "id": "2RNGUWGCWQZn",
        "outputId": "dad1ce6f-6eb9-4931-b988-13f7015efe86"
      },
      "execution_count": 17,
      "outputs": [
        {
          "output_type": "execute_result",
          "data": {
            "text/plain": [
              "7          Bream\n",
              "40         Roach\n",
              "95         Perch\n",
              "45         Roach\n",
              "110        Perch\n",
              "120        Perch\n",
              "59     Whitefish\n",
              "131         Pike\n",
              "33         Bream\n",
              "83         Perch\n",
              "128         Pike\n",
              "134         Pike\n",
              "60     Whitefish\n",
              "126        Perch\n",
              "62        Parkki\n",
              "37         Roach\n",
              "44         Roach\n",
              "142         Pike\n",
              "85         Perch\n",
              "26         Bream\n",
              "61        Parkki\n",
              "54         Roach\n",
              "86         Perch\n",
              "144         Pike\n",
              "63        Parkki\n",
              "8          Bream\n",
              "24         Bream\n",
              "56     Whitefish\n",
              "119        Perch\n",
              "148        Smelt\n",
              "19         Bream\n",
              "90         Perch\n",
              "143         Pike\n",
              "130         Pike\n",
              "16         Bream\n",
              "96         Perch\n",
              "107        Perch\n",
              "22         Bream\n",
              "113        Perch\n",
              "89         Perch\n",
              "Name: Species, dtype: object"
            ]
          },
          "metadata": {},
          "execution_count": 17
        }
      ]
    },
    {
      "cell_type": "code",
      "source": [
        "from sklearn.metrics import accuracy_score\n",
        "acc=accuracy_score(ytest,ypred)"
      ],
      "metadata": {
        "id": "S_LemyfSWZ79"
      },
      "execution_count": 18,
      "outputs": []
    },
    {
      "cell_type": "code",
      "source": [
        "acc*100"
      ],
      "metadata": {
        "colab": {
          "base_uri": "https://localhost:8080/"
        },
        "id": "bsgrJSghWrFK",
        "outputId": "0da93e8a-a194-4972-c578-e3f1ed8b6ac5"
      },
      "execution_count": 19,
      "outputs": [
        {
          "output_type": "execute_result",
          "data": {
            "text/plain": [
              "62.5"
            ]
          },
          "metadata": {},
          "execution_count": 19
        }
      ]
    },
    {
      "cell_type": "code",
      "source": [
        "t=scale.transform([[290.0,24.0,26.3,31.2,12.4800,4.3056]])\n"
      ],
      "metadata": {
        "colab": {
          "base_uri": "https://localhost:8080/"
        },
        "id": "62ED0C2kWwa6",
        "outputId": "3c2b1487-aa4a-4c4b-f352-81fd73433b51"
      },
      "execution_count": 20,
      "outputs": [
        {
          "output_type": "stream",
          "name": "stderr",
          "text": [
            "/usr/local/lib/python3.8/dist-packages/sklearn/base.py:450: UserWarning: X does not have valid feature names, but MinMaxScaler was fitted with feature names\n",
            "  warnings.warn(\n"
          ]
        }
      ]
    },
    {
      "cell_type": "code",
      "source": [
        "t"
      ],
      "metadata": {
        "colab": {
          "base_uri": "https://localhost:8080/"
        },
        "id": "BA7BwQc1XAk4",
        "outputId": "9e279b0b-bdee-45a7-efeb-37a8bcf50fcd"
      },
      "execution_count": 21,
      "outputs": [
        {
          "output_type": "execute_result",
          "data": {
            "text/plain": [
              "array([[0.17575758, 0.27983539, 0.29198473, 0.34285714, 0.62557028,\n",
              "        0.43265306]])"
            ]
          },
          "metadata": {},
          "execution_count": 21
        }
      ]
    },
    {
      "cell_type": "code",
      "source": [
        "log.predict(t)"
      ],
      "metadata": {
        "colab": {
          "base_uri": "https://localhost:8080/"
        },
        "id": "-oeIPNBAXWcj",
        "outputId": "b13ee8d2-51a7-4889-8d6c-4091e2abf540"
      },
      "execution_count": 22,
      "outputs": [
        {
          "output_type": "execute_result",
          "data": {
            "text/plain": [
              "array(['Bream'], dtype=object)"
            ]
          },
          "metadata": {},
          "execution_count": 22
        }
      ]
    },
    {
      "cell_type": "code",
      "source": [
        "r=scale.transform([[19.7, \t13.2, \t14.3, \t15.2, \t2.8728, \t2.0672]])\n",
        "r"
      ],
      "metadata": {
        "colab": {
          "base_uri": "https://localhost:8080/"
        },
        "id": "ggwCeOGgXiKC",
        "outputId": "b0e7a3d1-afd6-46ef-808e-52c3cd0f506e"
      },
      "execution_count": 23,
      "outputs": [
        {
          "output_type": "stream",
          "name": "stderr",
          "text": [
            "/usr/local/lib/python3.8/dist-packages/sklearn/base.py:450: UserWarning: X does not have valid feature names, but MinMaxScaler was fitted with feature names\n",
            "  warnings.warn(\n"
          ]
        },
        {
          "output_type": "execute_result",
          "data": {
            "text/plain": [
              "array([[0.01193939, 0.05761317, 0.0629771 , 0.05714286, 0.04116939,\n",
              "        0.10162674]])"
            ]
          },
          "metadata": {},
          "execution_count": 23
        }
      ]
    },
    {
      "cell_type": "code",
      "source": [
        "r"
      ],
      "metadata": {
        "colab": {
          "base_uri": "https://localhost:8080/"
        },
        "id": "Vu9ayIEYX6ar",
        "outputId": "2f3ea655-8417-4d7b-84ee-3c12c42579fc"
      },
      "execution_count": 24,
      "outputs": [
        {
          "output_type": "execute_result",
          "data": {
            "text/plain": [
              "array([[0.01193939, 0.05761317, 0.0629771 , 0.05714286, 0.04116939,\n",
              "        0.10162674]])"
            ]
          },
          "metadata": {},
          "execution_count": 24
        }
      ]
    },
    {
      "cell_type": "code",
      "source": [
        "log.predict(r)"
      ],
      "metadata": {
        "colab": {
          "base_uri": "https://localhost:8080/"
        },
        "id": "Gr_ziI5mYDO3",
        "outputId": "b5bb1da8-14b7-40b5-883d-886f87f9ff06"
      },
      "execution_count": 25,
      "outputs": [
        {
          "output_type": "execute_result",
          "data": {
            "text/plain": [
              "array(['Smelt'], dtype=object)"
            ]
          },
          "metadata": {},
          "execution_count": 25
        }
      ]
    },
    {
      "cell_type": "code",
      "source": [
        "q=scale.transform([[242.0, \t23.2, \t25.4, \t30.0, \t11.5200, \t4.0200]])"
      ],
      "metadata": {
        "colab": {
          "base_uri": "https://localhost:8080/"
        },
        "id": "puDs_tWRYFz1",
        "outputId": "3bd8be4f-f877-4ac7-a25d-ce22ae1b861e"
      },
      "execution_count": 26,
      "outputs": [
        {
          "output_type": "stream",
          "name": "stderr",
          "text": [
            "/usr/local/lib/python3.8/dist-packages/sklearn/base.py:450: UserWarning: X does not have valid feature names, but MinMaxScaler was fitted with feature names\n",
            "  warnings.warn(\n"
          ]
        }
      ]
    },
    {
      "cell_type": "code",
      "source": [
        "q"
      ],
      "metadata": {
        "colab": {
          "base_uri": "https://localhost:8080/"
        },
        "id": "M6lpQjs2YTWn",
        "outputId": "8d2ac6ce-0f4a-4caf-cdc5-4837910ea7ee"
      },
      "execution_count": 27,
      "outputs": [
        {
          "output_type": "execute_result",
          "data": {
            "text/plain": [
              "array([[0.14666667, 0.26337449, 0.27480916, 0.32142857, 0.56717398,\n",
              "        0.39041704]])"
            ]
          },
          "metadata": {},
          "execution_count": 27
        }
      ]
    },
    {
      "cell_type": "code",
      "source": [
        "log.predict(q)"
      ],
      "metadata": {
        "colab": {
          "base_uri": "https://localhost:8080/"
        },
        "id": "-Ha3Ri9MYT3B",
        "outputId": "3a77c53f-2654-43fd-c03f-3c20311f890f"
      },
      "execution_count": 28,
      "outputs": [
        {
          "output_type": "execute_result",
          "data": {
            "text/plain": [
              "array(['Perch'], dtype=object)"
            ]
          },
          "metadata": {},
          "execution_count": 28
        }
      ]
    },
    {
      "cell_type": "code",
      "source": [],
      "metadata": {
        "id": "yWQNo6IJYV8F"
      },
      "execution_count": 28,
      "outputs": []
    }
  ]
}